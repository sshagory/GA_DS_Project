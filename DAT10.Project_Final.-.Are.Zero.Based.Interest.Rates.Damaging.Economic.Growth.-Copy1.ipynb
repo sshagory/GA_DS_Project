{
 "cells": [
  {
   "cell_type": "code",
   "execution_count": 58,
   "metadata": {
    "collapsed": false
   },
   "outputs": [],
   "source": [
    "import pandas as pd\n",
    "import numpy as np\n",
    "import matplotlib.pyplot as plt\n",
    "import seaborn as sns\n",
    "%matplotlib inline"
   ]
  },
  {
   "cell_type": "code",
   "execution_count": 59,
   "metadata": {
    "collapsed": true
   },
   "outputs": [],
   "source": [
    "plt.rcParams['figure.figsize'] = (8,6)\n",
    "plt.rcParams['font.size'] = 14\n",
    "sns.set (style = 'white', context = 'talk')"
   ]
  },
  {
   "cell_type": "code",
   "execution_count": 60,
   "metadata": {
    "collapsed": true
   },
   "outputs": [],
   "source": [
    "#https://www.quandl.com/data/FRED/documentation/documentation\n",
    "#FRED/DFF is the db designation for the federal funds rate\n",
    "url = 'https://www.quandl.com/api/v3/datasets/FRED/DFF.csv?start_date=2008-12-31&end_date=2015-12-31&collapse=quarterly&order=asc&api_key=8svAK6ywjVwkSHtiu534'"
   ]
  },
  {
   "cell_type": "code",
   "execution_count": 61,
   "metadata": {
    "collapsed": true
   },
   "outputs": [],
   "source": [
    "#Define columns, read in csv file, and parse dates\n",
    "dff_cols = ['Date', 'Interest Rate']\n",
    "dff = pd.read_csv(url, header=0, names=dff_cols, parse_dates=True, na_filter=False)\n",
    "dff.rename(columns={'Interest Rate':'Interest_Rate'}, inplace=True)"
   ]
  },
  {
   "cell_type": "code",
   "execution_count": 62,
   "metadata": {
    "collapsed": false
   },
   "outputs": [
    {
     "data": {
      "text/html": [
       "<div>\n",
       "<table border=\"1\" class=\"dataframe\">\n",
       "  <thead>\n",
       "    <tr style=\"text-align: right;\">\n",
       "      <th></th>\n",
       "      <th>Date</th>\n",
       "      <th>Interest_Rate</th>\n",
       "    </tr>\n",
       "  </thead>\n",
       "  <tbody>\n",
       "    <tr>\n",
       "      <th>0</th>\n",
       "      <td>2008-12-31</td>\n",
       "      <td>0.14</td>\n",
       "    </tr>\n",
       "    <tr>\n",
       "      <th>1</th>\n",
       "      <td>2009-03-31</td>\n",
       "      <td>0.16</td>\n",
       "    </tr>\n",
       "  </tbody>\n",
       "</table>\n",
       "</div>"
      ],
      "text/plain": [
       "         Date  Interest_Rate\n",
       "0  2008-12-31           0.14\n",
       "1  2009-03-31           0.16"
      ]
     },
     "execution_count": 62,
     "metadata": {},
     "output_type": "execute_result"
    }
   ],
   "source": [
    "dff.head(2)"
   ]
  },
  {
   "cell_type": "code",
   "execution_count": 63,
   "metadata": {
    "collapsed": false
   },
   "outputs": [
    {
     "name": "stdout",
     "output_type": "stream",
     "text": [
      "(29, 2)\n",
      "<class 'pandas.core.series.Series'>\n"
     ]
    }
   ],
   "source": [
    "print dff.shape\n",
    "print type(dff.Date)"
   ]
  },
  {
   "cell_type": "code",
   "execution_count": 64,
   "metadata": {
    "collapsed": false
   },
   "outputs": [],
   "source": [
    "#Redefine Date into an integer\n",
    "dff['datetime'] = pd.to_datetime(dff.Date)\n",
    "dff['year'] = dff.datetime.dt.year\n",
    "dff['quarter'] = dff.datetime.dt.quarter"
   ]
  },
  {
   "cell_type": "code",
   "execution_count": 65,
   "metadata": {
    "collapsed": false,
    "scrolled": false
   },
   "outputs": [],
   "source": [
    "#dff.plot(kind='scatter', x='Date', y='Interest_Rate', alpha=0.2)\n",
    "#dff.plot(kind='scatter')\n",
    "#dff.plot(x='datetime', y='Interest_Rate')"
   ]
  },
  {
   "cell_type": "code",
   "execution_count": 66,
   "metadata": {
    "collapsed": false
   },
   "outputs": [
    {
     "data": {
      "text/plain": [
       "(28, 7)"
      ]
     },
     "execution_count": 66,
     "metadata": {},
     "output_type": "execute_result"
    }
   ],
   "source": [
    "#Define and read in buybacks data set\n",
    "buybacks_url = \"/Users/scottshagory/Desktop/Project/SP_500_Buyback.csv\"\n",
    "buybacks = pd.read_csv (buybacks_url, index_col=None, parse_dates=True)\n",
    "buybacks.drop(['VALUE','BUYBACK .1','& BUYBACKS'], axis=1, inplace=True)\n",
    "buybacks.shape"
   ]
  },
  {
   "cell_type": "code",
   "execution_count": 67,
   "metadata": {
    "collapsed": false
   },
   "outputs": [
    {
     "data": {
      "text/plain": [
       "DATE           object\n",
       "EARNINGS       object\n",
       "EARNINGS.1     object\n",
       "DIVIDENDS     float64\n",
       "BUYBACKS      float64\n",
       "DIVIDEND       object\n",
       "BUYBACK        object\n",
       "dtype: object"
      ]
     },
     "execution_count": 67,
     "metadata": {},
     "output_type": "execute_result"
    }
   ],
   "source": [
    "buybacks.dtypes"
   ]
  },
  {
   "cell_type": "code",
   "execution_count": 68,
   "metadata": {
    "collapsed": false
   },
   "outputs": [
    {
     "data": {
      "text/plain": [
       "(28, 10)"
      ]
     },
     "execution_count": 68,
     "metadata": {},
     "output_type": "execute_result"
    }
   ],
   "source": [
    "#Redefine date parameter into useable pandas form\n",
    "buybacks['datetime'] = pd.to_datetime(buybacks.DATE)\n",
    "buybacks['year'] = buybacks.datetime.dt.year\n",
    "buybacks['quarter'] = buybacks.datetime.dt.quarter\n",
    "buybacks.shape"
   ]
  },
  {
   "cell_type": "code",
   "execution_count": 69,
   "metadata": {
    "collapsed": false
   },
   "outputs": [
    {
     "data": {
      "text/html": [
       "<div>\n",
       "<table border=\"1\" class=\"dataframe\">\n",
       "  <thead>\n",
       "    <tr style=\"text-align: right;\">\n",
       "      <th></th>\n",
       "      <th>DATE</th>\n",
       "      <th>EARNINGS</th>\n",
       "      <th>EARNINGS.1</th>\n",
       "      <th>DIVIDENDS</th>\n",
       "      <th>BUYBACKS</th>\n",
       "      <th>DIVIDEND</th>\n",
       "      <th>BUYBACK</th>\n",
       "      <th>datetime</th>\n",
       "      <th>year</th>\n",
       "      <th>quarter</th>\n",
       "    </tr>\n",
       "  </thead>\n",
       "  <tbody>\n",
       "    <tr>\n",
       "      <th>0</th>\n",
       "      <td>9/30/2015</td>\n",
       "      <td>$224.23</td>\n",
       "      <td>$205.90</td>\n",
       "      <td>95.07</td>\n",
       "      <td>150.58</td>\n",
       "      <td>2.22%</td>\n",
       "      <td>3.30%</td>\n",
       "      <td>2015-09-30</td>\n",
       "      <td>2015</td>\n",
       "      <td>3</td>\n",
       "    </tr>\n",
       "    <tr>\n",
       "      <th>1</th>\n",
       "      <td>6/30/2015</td>\n",
       "      <td>$230.84</td>\n",
       "      <td>$201.35</td>\n",
       "      <td>94.45</td>\n",
       "      <td>131.56</td>\n",
       "      <td>2.03%</td>\n",
       "      <td>3.04%</td>\n",
       "      <td>2015-06-30</td>\n",
       "      <td>2015</td>\n",
       "      <td>2</td>\n",
       "    </tr>\n",
       "  </tbody>\n",
       "</table>\n",
       "</div>"
      ],
      "text/plain": [
       "        DATE EARNINGS EARNINGS.1  DIVIDENDS  BUYBACKS DIVIDEND  BUYBACK   \\\n",
       "0  9/30/2015  $224.23    $205.90      95.07    150.58     2.22%    3.30%   \n",
       "1  6/30/2015  $230.84    $201.35      94.45    131.56     2.03%    3.04%   \n",
       "\n",
       "    datetime  year  quarter  \n",
       "0 2015-09-30  2015        3  \n",
       "1 2015-06-30  2015        2  "
      ]
     },
     "execution_count": 69,
     "metadata": {},
     "output_type": "execute_result"
    }
   ],
   "source": [
    "buybacks.head(2)"
   ]
  },
  {
   "cell_type": "code",
   "execution_count": 70,
   "metadata": {
    "collapsed": false
   },
   "outputs": [],
   "source": [
    "#Merging Fed Interest Rate and S&P500 Dataframes \n",
    "buybacks_dff = pd.merge(buybacks,dff, on=['quarter','year'])"
   ]
  },
  {
   "cell_type": "code",
   "execution_count": 71,
   "metadata": {
    "collapsed": false
   },
   "outputs": [
    {
     "name": "stdout",
     "output_type": "stream",
     "text": [
      "(28, 10)\n",
      "(29, 5)\n",
      "(28, 13)\n"
     ]
    }
   ],
   "source": [
    "print buybacks.shape\n",
    "print dff.shape\n",
    "print buybacks_dff.shape"
   ]
  },
  {
   "cell_type": "code",
   "execution_count": 72,
   "metadata": {
    "collapsed": false
   },
   "outputs": [
    {
     "data": {
      "text/html": [
       "<div>\n",
       "<table border=\"1\" class=\"dataframe\">\n",
       "  <thead>\n",
       "    <tr style=\"text-align: right;\">\n",
       "      <th></th>\n",
       "      <th>DATE</th>\n",
       "      <th>EARNINGS</th>\n",
       "      <th>EARNINGS.1</th>\n",
       "      <th>DIVIDENDS</th>\n",
       "      <th>BUYBACKS</th>\n",
       "      <th>DIVIDEND</th>\n",
       "      <th>BUYBACK</th>\n",
       "      <th>datetime_x</th>\n",
       "      <th>year</th>\n",
       "      <th>quarter</th>\n",
       "      <th>Date</th>\n",
       "      <th>Interest_Rate</th>\n",
       "      <th>datetime_y</th>\n",
       "    </tr>\n",
       "  </thead>\n",
       "  <tbody>\n",
       "    <tr>\n",
       "      <th>0</th>\n",
       "      <td>9/30/2015</td>\n",
       "      <td>$224.23</td>\n",
       "      <td>$205.90</td>\n",
       "      <td>95.07</td>\n",
       "      <td>150.58</td>\n",
       "      <td>2.22%</td>\n",
       "      <td>3.30%</td>\n",
       "      <td>2015-09-30</td>\n",
       "      <td>2015</td>\n",
       "      <td>3</td>\n",
       "      <td>2015-09-30</td>\n",
       "      <td>0.07</td>\n",
       "      <td>2015-09-30</td>\n",
       "    </tr>\n",
       "    <tr>\n",
       "      <th>1</th>\n",
       "      <td>6/30/2015</td>\n",
       "      <td>$230.84</td>\n",
       "      <td>$201.35</td>\n",
       "      <td>94.45</td>\n",
       "      <td>131.56</td>\n",
       "      <td>2.03%</td>\n",
       "      <td>3.04%</td>\n",
       "      <td>2015-06-30</td>\n",
       "      <td>2015</td>\n",
       "      <td>2</td>\n",
       "      <td>2015-06-30</td>\n",
       "      <td>0.08</td>\n",
       "      <td>2015-06-30</td>\n",
       "    </tr>\n",
       "  </tbody>\n",
       "</table>\n",
       "</div>"
      ],
      "text/plain": [
       "        DATE EARNINGS EARNINGS.1  DIVIDENDS  BUYBACKS DIVIDEND  BUYBACK   \\\n",
       "0  9/30/2015  $224.23    $205.90      95.07    150.58     2.22%    3.30%   \n",
       "1  6/30/2015  $230.84    $201.35      94.45    131.56     2.03%    3.04%   \n",
       "\n",
       "  datetime_x  year  quarter        Date  Interest_Rate datetime_y  \n",
       "0 2015-09-30  2015        3  2015-09-30           0.07 2015-09-30  \n",
       "1 2015-06-30  2015        2  2015-06-30           0.08 2015-06-30  "
      ]
     },
     "execution_count": 72,
     "metadata": {},
     "output_type": "execute_result"
    }
   ],
   "source": [
    "buybacks_dff.head(2)"
   ]
  },
  {
   "cell_type": "code",
   "execution_count": 73,
   "metadata": {
    "collapsed": true
   },
   "outputs": [],
   "source": [
    "#Tried a number of steps to remove $ signs, but wasn't successful.  Ended up removing them from .csv file.\n",
    "#Convert dollar sign ($) in Buybacks column to float type.\n",
    "#Including \"-\" in 2nd line to deal w/potential negative numbers\n",
    "#(buybacks_dff['BUYBACKS'].replace( '[\\$,)]','',regex=True).astype(float))\n",
    "  #                       .replace( '[(]','-',   regex=True).astype(float))"
   ]
  },
  {
   "cell_type": "code",
   "execution_count": 74,
   "metadata": {
    "collapsed": false
   },
   "outputs": [
    {
     "data": {
      "text/html": [
       "<div>\n",
       "<table border=\"1\" class=\"dataframe\">\n",
       "  <thead>\n",
       "    <tr style=\"text-align: right;\">\n",
       "      <th></th>\n",
       "      <th>DATE</th>\n",
       "      <th>EARNINGS</th>\n",
       "      <th>EARNINGS.1</th>\n",
       "      <th>DIVIDENDS</th>\n",
       "      <th>BUYBACKS</th>\n",
       "      <th>DIVIDEND</th>\n",
       "      <th>BUYBACK</th>\n",
       "      <th>datetime_x</th>\n",
       "      <th>year</th>\n",
       "      <th>quarter</th>\n",
       "      <th>Date</th>\n",
       "      <th>Interest_Rate</th>\n",
       "      <th>datetime_y</th>\n",
       "    </tr>\n",
       "  </thead>\n",
       "  <tbody>\n",
       "    <tr>\n",
       "      <th>0</th>\n",
       "      <td>9/30/2015</td>\n",
       "      <td>$224.23</td>\n",
       "      <td>$205.90</td>\n",
       "      <td>95.07</td>\n",
       "      <td>150.58</td>\n",
       "      <td>2.22%</td>\n",
       "      <td>3.30%</td>\n",
       "      <td>2015-09-30</td>\n",
       "      <td>2015</td>\n",
       "      <td>3</td>\n",
       "      <td>2015-09-30</td>\n",
       "      <td>0.07</td>\n",
       "      <td>2015-09-30</td>\n",
       "    </tr>\n",
       "    <tr>\n",
       "      <th>1</th>\n",
       "      <td>6/30/2015</td>\n",
       "      <td>$230.84</td>\n",
       "      <td>$201.35</td>\n",
       "      <td>94.45</td>\n",
       "      <td>131.56</td>\n",
       "      <td>2.03%</td>\n",
       "      <td>3.04%</td>\n",
       "      <td>2015-06-30</td>\n",
       "      <td>2015</td>\n",
       "      <td>2</td>\n",
       "      <td>2015-06-30</td>\n",
       "      <td>0.08</td>\n",
       "      <td>2015-06-30</td>\n",
       "    </tr>\n",
       "  </tbody>\n",
       "</table>\n",
       "</div>"
      ],
      "text/plain": [
       "        DATE EARNINGS EARNINGS.1  DIVIDENDS  BUYBACKS DIVIDEND  BUYBACK   \\\n",
       "0  9/30/2015  $224.23    $205.90      95.07    150.58     2.22%    3.30%   \n",
       "1  6/30/2015  $230.84    $201.35      94.45    131.56     2.03%    3.04%   \n",
       "\n",
       "  datetime_x  year  quarter        Date  Interest_Rate datetime_y  \n",
       "0 2015-09-30  2015        3  2015-09-30           0.07 2015-09-30  \n",
       "1 2015-06-30  2015        2  2015-06-30           0.08 2015-06-30  "
      ]
     },
     "execution_count": 74,
     "metadata": {},
     "output_type": "execute_result"
    }
   ],
   "source": [
    "buybacks_dff.head(2)"
   ]
  },
  {
   "cell_type": "code",
   "execution_count": 75,
   "metadata": {
    "collapsed": false
   },
   "outputs": [
    {
     "data": {
      "text/plain": [
       "LinearRegression(copy_X=True, fit_intercept=True, n_jobs=1, normalize=False)"
      ]
     },
     "execution_count": 75,
     "metadata": {},
     "output_type": "execute_result"
    }
   ],
   "source": [
    "#Building linear regression model for S&P500 buybacks\n",
    "feature_cols = ['Interest_Rate']\n",
    "X = buybacks_dff[feature_cols]\n",
    "y = buybacks_dff.BUYBACKS\n",
    "from sklearn.linear_model import LinearRegression\n",
    "linreg = LinearRegression()\n",
    "linreg.fit(X, y)"
   ]
  },
  {
   "cell_type": "code",
   "execution_count": 76,
   "metadata": {
    "collapsed": false
   },
   "outputs": [
    {
     "name": "stdout",
     "output_type": "stream",
     "text": [
      "150.898336112\n",
      "[-590.21649846]\n"
     ]
    }
   ],
   "source": [
    "print linreg.intercept_\n",
    "print linreg.coef_"
   ]
  },
  {
   "cell_type": "code",
   "execution_count": 77,
   "metadata": {
    "collapsed": false
   },
   "outputs": [
    {
     "name": "stdout",
     "output_type": "stream",
     "text": [
      "[ 3.3442115]\n",
      "[-144.20991312]\n"
     ]
    }
   ],
   "source": [
    "#If interest rates rose to .50\n",
    "print linreg.intercept_ + linreg.coef_*.25\n",
    "print linreg.intercept_ + linreg.coef_*.50"
   ]
  },
  {
   "cell_type": "code",
   "execution_count": 78,
   "metadata": {
    "collapsed": false
   },
   "outputs": [
    {
     "name": "stdout",
     "output_type": "stream",
     "text": [
      "[ 3.3442115]\n",
      "[-144.20991312]\n",
      "[-291.76403774]\n",
      "[-439.31816235]\n"
     ]
    }
   ],
   "source": [
    "#Looking at how rising interests rates would affect S&P500 Buybacks\n",
    "print linreg.predict(.25)\n",
    "print linreg.predict(.50)\n",
    "print linreg.predict(.75)\n",
    "print linreg.predict(1.00)"
   ]
  },
  {
   "cell_type": "code",
   "execution_count": 79,
   "metadata": {
    "collapsed": false
   },
   "outputs": [
    {
     "name": "stdout",
     "output_type": "stream",
     "text": [
      "147.55412462\n",
      "147.55412462\n",
      "147.55412461\n"
     ]
    }
   ],
   "source": [
    "#Calculating predicted regression sum differences per change in X (interest rates)\n",
    "print 3.3442115 - (-144.20991312)\n",
    "print -144.20991312 - (-291.76403774)\n",
    "print -291.76403774 - (-439.31816235)"
   ]
  },
  {
   "cell_type": "code",
   "execution_count": 80,
   "metadata": {
    "collapsed": false
   },
   "outputs": [
    {
     "name": "stdout",
     "output_type": "stream",
     "text": [
      "[  4.98379559e+00   3.59070690e+01   4.77380439e+00   2.30966085e-06\n",
      "   1.45111494e+00   4.57200193e-01   1.82290710e+01   1.19843708e+00\n",
      "   1.07454124e+01   7.90693123e+00]\n",
      "8.56528381109\n"
     ]
    }
   ],
   "source": [
    "#Comparing scores w/cross validation and mean squared error for interest rates and S&P500 buybacks\n",
    "lm = LinearRegression()\n",
    "scores = -cross_val_score(lm, X, y, cv=10, scoring='mean_squared_error')\n",
    "print mse_scores\n",
    "print mse_scores.mean()"
   ]
  },
  {
   "cell_type": "code",
   "execution_count": 81,
   "metadata": {
    "collapsed": false
   },
   "outputs": [
    {
     "name": "stdout",
     "output_type": "stream",
     "text": [
      "[  2.23244162e+00   5.99225074e+00   2.18490375e+00   1.51975684e-03\n",
      "   1.20462232e+00   6.76165803e-01   4.26955162e+00   1.09473151e+00\n",
      "   3.27801959e+00   2.81192661e+00]\n",
      "2.37461333119\n"
     ]
    }
   ],
   "source": [
    "#Comparing MSE w/RMSE for interest rates and S&P500 buybacks\n",
    "rmse_scores = np.sqrt(mse_scores)\n",
    "print rmse_scores\n",
    "print rmse_scores.mean()"
   ]
  },
  {
   "cell_type": "code",
   "execution_count": 82,
   "metadata": {
    "collapsed": false
   },
   "outputs": [
    {
     "data": {
      "text/html": [
       "<div>\n",
       "<table border=\"1\" class=\"dataframe\">\n",
       "  <thead>\n",
       "    <tr style=\"text-align: right;\">\n",
       "      <th></th>\n",
       "      <th>Potential_SP_Share_Buybacks</th>\n",
       "      <th>Potential_SP_Interest_Rates</th>\n",
       "    </tr>\n",
       "  </thead>\n",
       "  <tbody>\n",
       "    <tr>\n",
       "      <th>0</th>\n",
       "      <td>3.344212</td>\n",
       "      <td>0.25</td>\n",
       "    </tr>\n",
       "    <tr>\n",
       "      <th>1</th>\n",
       "      <td>-144.209913</td>\n",
       "      <td>0.50</td>\n",
       "    </tr>\n",
       "    <tr>\n",
       "      <th>2</th>\n",
       "      <td>-291.764038</td>\n",
       "      <td>0.75</td>\n",
       "    </tr>\n",
       "    <tr>\n",
       "      <th>3</th>\n",
       "      <td>-439.318162</td>\n",
       "      <td>1.00</td>\n",
       "    </tr>\n",
       "  </tbody>\n",
       "</table>\n",
       "</div>"
      ],
      "text/plain": [
       "   Potential_SP_Share_Buybacks  Potential_SP_Interest_Rates\n",
       "0                     3.344212                         0.25\n",
       "1                  -144.209913                         0.50\n",
       "2                  -291.764038                         0.75\n",
       "3                  -439.318162                         1.00"
      ]
     },
     "execution_count": 82,
     "metadata": {},
     "output_type": "execute_result"
    }
   ],
   "source": [
    "#Creating Dataframe of Predicted Regressions Sums\n",
    "regression_SP = pd.DataFrame({'Potential_SP_Share_Buybacks':[3.3442115, -144.20991312, -291.76403774, -439.31816235]})\n",
    "regression_SP['Potential_SP_Interest_Rates'] = [.25, .50, .75, 1.00]\n",
    "regression_SP.head()"
   ]
  },
  {
   "cell_type": "code",
   "execution_count": 83,
   "metadata": {
    "collapsed": false
   },
   "outputs": [
    {
     "data": {
      "text/plain": [
       "Potential_SP_Share_Buybacks    float64\n",
       "Potential_SP_Interest_Rates    float64\n",
       "dtype: object"
      ]
     },
     "execution_count": 83,
     "metadata": {},
     "output_type": "execute_result"
    }
   ],
   "source": [
    "regression_SP.dtypes"
   ]
  },
  {
   "cell_type": "code",
   "execution_count": 84,
   "metadata": {
    "collapsed": false
   },
   "outputs": [
    {
     "data": {
      "image/png": "[encoded data removed]",
      "text/plain": [
       "<matplotlib.figure.Figure at 0x10bb3f8d0>"
      ]
     },
     "metadata": {},
     "output_type": "display_data"
    }
   ],
   "source": [
    "sns.jointplot(\"Potential_SP_Interest_Rates\", \"Potential_SP_Share_Buybacks\", regression_SP, size=6, kind=\"reg\", color=\"g\")\n",
    "sns.set(color_codes=True)"
   ]
  },
  {
   "cell_type": "code",
   "execution_count": 85,
   "metadata": {
    "collapsed": false
   },
   "outputs": [
    {
     "data": {
      "text/plain": [
       "(37, 2)"
      ]
     },
     "execution_count": 85,
     "metadata": {},
     "output_type": "execute_result"
    }
   ],
   "source": [
    "#Define and read in IBM data set\n",
    "ibm_url = \"/Users/scottshagory/Desktop/Project/IBM_Buyback.csv\"\n",
    "ibm = pd.read_csv (ibm_url, index_col=None)\n",
    "ibm.drop(['Action Type', 'Security ID'], axis=1, inplace=True)\n",
    "ibm.drop(['Announce/Declared Date'], axis=1, inplace=True)\n",
    "ibm.rename(columns = {'Effective Date':'datetime'},inplace=True)\n",
    "ibm.shape"
   ]
  },
  {
   "cell_type": "code",
   "execution_count": 86,
   "metadata": {
    "collapsed": false
   },
   "outputs": [
    {
     "data": {
      "text/plain": [
       "(37, 4)"
      ]
     },
     "execution_count": 86,
     "metadata": {},
     "output_type": "execute_result"
    }
   ],
   "source": [
    "#Redefine date parameter into useable pandas form\n",
    "ibm['datetime'] = pd.to_datetime(ibm.datetime)\n",
    "ibm['year'] = ibm.datetime.dt.year\n",
    "ibm['quarter'] = ibm.datetime.dt.quarter\n",
    "ibm.shape"
   ]
  },
  {
   "cell_type": "code",
   "execution_count": 87,
   "metadata": {
    "collapsed": false
   },
   "outputs": [
    {
     "data": {
      "text/html": [
       "<div>\n",
       "<table border=\"1\" class=\"dataframe\">\n",
       "  <thead>\n",
       "    <tr style=\"text-align: right;\">\n",
       "      <th></th>\n",
       "      <th>datetime</th>\n",
       "      <th>Billions_Bought</th>\n",
       "      <th>year</th>\n",
       "      <th>quarter</th>\n",
       "    </tr>\n",
       "  </thead>\n",
       "  <tbody>\n",
       "    <tr>\n",
       "      <th>0</th>\n",
       "      <td>2015-10-27</td>\n",
       "      <td>4</td>\n",
       "      <td>2015</td>\n",
       "      <td>4</td>\n",
       "    </tr>\n",
       "    <tr>\n",
       "      <th>1</th>\n",
       "      <td>2014-10-28</td>\n",
       "      <td>5</td>\n",
       "      <td>2014</td>\n",
       "      <td>4</td>\n",
       "    </tr>\n",
       "  </tbody>\n",
       "</table>\n",
       "</div>"
      ],
      "text/plain": [
       "    datetime  Billions_Bought  year  quarter\n",
       "0 2015-10-27                4  2015        4\n",
       "1 2014-10-28                5  2014        4"
      ]
     },
     "execution_count": 87,
     "metadata": {},
     "output_type": "execute_result"
    }
   ],
   "source": [
    "ibm.head(2)"
   ]
  },
  {
   "cell_type": "code",
   "execution_count": 88,
   "metadata": {
    "collapsed": false
   },
   "outputs": [
    {
     "data": {
      "text/html": [
       "<div>\n",
       "<table border=\"1\" class=\"dataframe\">\n",
       "  <thead>\n",
       "    <tr style=\"text-align: right;\">\n",
       "      <th></th>\n",
       "      <th>datetime</th>\n",
       "      <th>Billions_Bought</th>\n",
       "      <th>year</th>\n",
       "      <th>quarter</th>\n",
       "    </tr>\n",
       "  </thead>\n",
       "  <tbody>\n",
       "    <tr>\n",
       "      <th>35</th>\n",
       "      <td>1995-07-25</td>\n",
       "      <td>2.5</td>\n",
       "      <td>1995</td>\n",
       "      <td>3</td>\n",
       "    </tr>\n",
       "    <tr>\n",
       "      <th>36</th>\n",
       "      <td>1995-01-31</td>\n",
       "      <td>2.5</td>\n",
       "      <td>1995</td>\n",
       "      <td>1</td>\n",
       "    </tr>\n",
       "  </tbody>\n",
       "</table>\n",
       "</div>"
      ],
      "text/plain": [
       "     datetime  Billions_Bought  year  quarter\n",
       "35 1995-07-25              2.5  1995        3\n",
       "36 1995-01-31              2.5  1995        1"
      ]
     },
     "execution_count": 88,
     "metadata": {},
     "output_type": "execute_result"
    }
   ],
   "source": [
    "ibm.tail(2)"
   ]
  },
  {
   "cell_type": "code",
   "execution_count": 89,
   "metadata": {
    "collapsed": false
   },
   "outputs": [
    {
     "data": {
      "text/plain": [
       "datetime           datetime64[ns]\n",
       "Billions_Bought           float64\n",
       "year                        int64\n",
       "quarter                     int64\n",
       "dtype: object"
      ]
     },
     "execution_count": 89,
     "metadata": {},
     "output_type": "execute_result"
    }
   ],
   "source": [
    "ibm.dtypes"
   ]
  },
  {
   "cell_type": "code",
   "execution_count": 90,
   "metadata": {
    "collapsed": true
   },
   "outputs": [],
   "source": [
    "#Merging Fed Interest Rate and IBM share buyback Dataframes\n",
    "ibm_dff = pd.merge(ibm,dff, on=['quarter','year'])"
   ]
  },
  {
   "cell_type": "code",
   "execution_count": 91,
   "metadata": {
    "collapsed": false
   },
   "outputs": [
    {
     "name": "stdout",
     "output_type": "stream",
     "text": [
      "(37, 4)\n",
      "(29, 5)\n",
      "(12, 7)\n"
     ]
    }
   ],
   "source": [
    "print ibm.shape\n",
    "print dff.shape\n",
    "print ibm_dff.shape"
   ]
  },
  {
   "cell_type": "code",
   "execution_count": 92,
   "metadata": {
    "collapsed": false
   },
   "outputs": [
    {
     "data": {
      "text/html": [
       "<div>\n",
       "<table border=\"1\" class=\"dataframe\">\n",
       "  <thead>\n",
       "    <tr style=\"text-align: right;\">\n",
       "      <th></th>\n",
       "      <th>datetime_x</th>\n",
       "      <th>Billions_Bought</th>\n",
       "      <th>year</th>\n",
       "      <th>quarter</th>\n",
       "      <th>Date</th>\n",
       "      <th>Interest_Rate</th>\n",
       "      <th>datetime_y</th>\n",
       "    </tr>\n",
       "  </thead>\n",
       "  <tbody>\n",
       "    <tr>\n",
       "      <th>0</th>\n",
       "      <td>2015-10-27</td>\n",
       "      <td>4</td>\n",
       "      <td>2015</td>\n",
       "      <td>4</td>\n",
       "      <td>2015-12-31</td>\n",
       "      <td>0.20</td>\n",
       "      <td>2015-12-31</td>\n",
       "    </tr>\n",
       "    <tr>\n",
       "      <th>1</th>\n",
       "      <td>2014-10-28</td>\n",
       "      <td>5</td>\n",
       "      <td>2014</td>\n",
       "      <td>4</td>\n",
       "      <td>2014-12-31</td>\n",
       "      <td>0.06</td>\n",
       "      <td>2014-12-31</td>\n",
       "    </tr>\n",
       "    <tr>\n",
       "      <th>2</th>\n",
       "      <td>2013-10-29</td>\n",
       "      <td>15</td>\n",
       "      <td>2013</td>\n",
       "      <td>4</td>\n",
       "      <td>2013-12-31</td>\n",
       "      <td>0.07</td>\n",
       "      <td>2013-12-31</td>\n",
       "    </tr>\n",
       "    <tr>\n",
       "      <th>3</th>\n",
       "      <td>2013-04-30</td>\n",
       "      <td>5</td>\n",
       "      <td>2013</td>\n",
       "      <td>2</td>\n",
       "      <td>2013-06-30</td>\n",
       "      <td>0.07</td>\n",
       "      <td>2013-06-30</td>\n",
       "    </tr>\n",
       "    <tr>\n",
       "      <th>4</th>\n",
       "      <td>2012-10-30</td>\n",
       "      <td>5</td>\n",
       "      <td>2012</td>\n",
       "      <td>4</td>\n",
       "      <td>2012-12-31</td>\n",
       "      <td>0.09</td>\n",
       "      <td>2012-12-31</td>\n",
       "    </tr>\n",
       "  </tbody>\n",
       "</table>\n",
       "</div>"
      ],
      "text/plain": [
       "  datetime_x  Billions_Bought  year  quarter        Date  Interest_Rate  \\\n",
       "0 2015-10-27                4  2015        4  2015-12-31           0.20   \n",
       "1 2014-10-28                5  2014        4  2014-12-31           0.06   \n",
       "2 2013-10-29               15  2013        4  2013-12-31           0.07   \n",
       "3 2013-04-30                5  2013        2  2013-06-30           0.07   \n",
       "4 2012-10-30                5  2012        4  2012-12-31           0.09   \n",
       "\n",
       "  datetime_y  \n",
       "0 2015-12-31  \n",
       "1 2014-12-31  \n",
       "2 2013-12-31  \n",
       "3 2013-06-30  \n",
       "4 2012-12-31  "
      ]
     },
     "execution_count": 92,
     "metadata": {},
     "output_type": "execute_result"
    }
   ],
   "source": [
    "ibm_dff.head()"
   ]
  },
  {
   "cell_type": "code",
   "execution_count": 93,
   "metadata": {
    "collapsed": false
   },
   "outputs": [
    {
     "data": {
      "text/plain": [
       "LinearRegression(copy_X=True, fit_intercept=True, n_jobs=1, normalize=False)"
      ]
     },
     "execution_count": 93,
     "metadata": {},
     "output_type": "execute_result"
    }
   ],
   "source": [
    "#Building linear regression model for S&P500 buybacks\n",
    "feature_cols = ['Interest_Rate']\n",
    "X = ibm_dff[feature_cols]\n",
    "y = ibm_dff.Billions_Bought\n",
    "from sklearn.linear_model import LinearRegression\n",
    "linreg = LinearRegression()\n",
    "linreg.fit(X, y)"
   ]
  },
  {
   "cell_type": "code",
   "execution_count": 94,
   "metadata": {
    "collapsed": false
   },
   "outputs": [
    {
     "name": "stdout",
     "output_type": "stream",
     "text": [
      "8.78359592215\n",
      "[-19.83317887]\n"
     ]
    }
   ],
   "source": [
    "print linreg.intercept_\n",
    "print linreg.coef_"
   ]
  },
  {
   "cell_type": "code",
   "execution_count": 95,
   "metadata": {
    "collapsed": false
   },
   "outputs": [
    {
     "name": "stdout",
     "output_type": "stream",
     "text": [
      "[ 3.8253012]\n",
      "[-1.13299351]\n"
     ]
    }
   ],
   "source": [
    "#If interest rates rose to .50\n",
    "print linreg.intercept_ + linreg.coef_*.25\n",
    "print linreg.intercept_ + linreg.coef_*.50"
   ]
  },
  {
   "cell_type": "code",
   "execution_count": 96,
   "metadata": {
    "collapsed": false
   },
   "outputs": [
    {
     "name": "stdout",
     "output_type": "stream",
     "text": [
      "[ 3.8253012]\n",
      "[-1.13299351]\n",
      "[-6.09128823]\n",
      "[-11.04958295]\n"
     ]
    }
   ],
   "source": [
    "#Looking at how rising interests rates would affect IBM buying back its shares\n",
    "print linreg.predict(.25)\n",
    "print linreg.predict(.50)\n",
    "print linreg.predict(.75)\n",
    "print linreg.predict(1.00)"
   ]
  },
  {
   "cell_type": "code",
   "execution_count": 97,
   "metadata": {
    "collapsed": false
   },
   "outputs": [
    {
     "name": "stdout",
     "output_type": "stream",
     "text": [
      "4.95829471\n",
      "4.95829472\n",
      "4.95829472\n"
     ]
    }
   ],
   "source": [
    "#Calculating predicted regression sum differences per change in X (interest rates)\n",
    "print 3.8253012 - (-1.13299351)\n",
    "print -1.13299351 - (-6.09128823)\n",
    "print -6.09128823 - (-11.04958295)"
   ]
  },
  {
   "cell_type": "code",
   "execution_count": 98,
   "metadata": {
    "collapsed": false
   },
   "outputs": [
    {
     "name": "stdout",
     "output_type": "stream",
     "text": [
      "[  4.98379559e+00   3.59070690e+01   4.77380439e+00   2.30966085e-06\n",
      "   1.45111494e+00   4.57200193e-01   1.82290710e+01   1.19843708e+00\n",
      "   1.07454124e+01   7.90693123e+00]\n",
      "8.56528381109\n"
     ]
    }
   ],
   "source": [
    "#Comparing scores w/cross validation and mean squared error for interest rates and IBM buybacks\n",
    "from sklearn.cross_validation import cross_val_score\n",
    "lm = LinearRegression()\n",
    "scores = -cross_val_score(lm, X, y, cv=10, scoring='mean_squared_error')\n",
    "print mse_scores\n",
    "print mse_scores.mean()"
   ]
  },
  {
   "cell_type": "code",
   "execution_count": 99,
   "metadata": {
    "collapsed": false
   },
   "outputs": [
    {
     "name": "stdout",
     "output_type": "stream",
     "text": [
      "[  2.23244162e+00   5.99225074e+00   2.18490375e+00   1.51975684e-03\n",
      "   1.20462232e+00   6.76165803e-01   4.26955162e+00   1.09473151e+00\n",
      "   3.27801959e+00   2.81192661e+00]\n",
      "2.37461333119\n"
     ]
    }
   ],
   "source": [
    "#Comparing MSE w/RMSE for interest rates and IBM buybacks\n",
    "rmse_scores = np.sqrt(mse_scores)\n",
    "print rmse_scores\n",
    "print rmse_scores.mean()"
   ]
  },
  {
   "cell_type": "code",
   "execution_count": 100,
   "metadata": {
    "collapsed": false
   },
   "outputs": [
    {
     "data": {
      "text/html": [
       "<div>\n",
       "<table border=\"1\" class=\"dataframe\">\n",
       "  <thead>\n",
       "    <tr style=\"text-align: right;\">\n",
       "      <th></th>\n",
       "      <th>Potential_IBM_Share_Buybacks</th>\n",
       "      <th>Potential_IBM_Interest_Rates</th>\n",
       "    </tr>\n",
       "  </thead>\n",
       "  <tbody>\n",
       "    <tr>\n",
       "      <th>0</th>\n",
       "      <td>3.825301</td>\n",
       "      <td>0.25</td>\n",
       "    </tr>\n",
       "    <tr>\n",
       "      <th>1</th>\n",
       "      <td>-1.132994</td>\n",
       "      <td>0.50</td>\n",
       "    </tr>\n",
       "    <tr>\n",
       "      <th>2</th>\n",
       "      <td>-6.091288</td>\n",
       "      <td>0.75</td>\n",
       "    </tr>\n",
       "    <tr>\n",
       "      <th>3</th>\n",
       "      <td>-11.049583</td>\n",
       "      <td>1.00</td>\n",
       "    </tr>\n",
       "  </tbody>\n",
       "</table>\n",
       "</div>"
      ],
      "text/plain": [
       "   Potential_IBM_Share_Buybacks  Potential_IBM_Interest_Rates\n",
       "0                      3.825301                          0.25\n",
       "1                     -1.132994                          0.50\n",
       "2                     -6.091288                          0.75\n",
       "3                    -11.049583                          1.00"
      ]
     },
     "execution_count": 100,
     "metadata": {},
     "output_type": "execute_result"
    }
   ],
   "source": [
    "#Creating Dataframe of Predicted Regressions Sums (Standard linear regression)\n",
    "regression_IBM = pd.DataFrame({'Potential_IBM_Share_Buybacks':[3.8253012, -1.13299351, -6.09128823, -11.04958295]})\n",
    "regression_IBM['Potential_IBM_Interest_Rates'] = [.25, .50, .75, 1.00]\n",
    "regression_IBM.head()"
   ]
  },
  {
   "cell_type": "code",
   "execution_count": 101,
   "metadata": {
    "collapsed": false
   },
   "outputs": [
    {
     "data": {
      "text/plain": [
       "Potential_IBM_Share_Buybacks    float64\n",
       "Potential_IBM_Interest_Rates    float64\n",
       "dtype: object"
      ]
     },
     "execution_count": 101,
     "metadata": {},
     "output_type": "execute_result"
    }
   ],
   "source": [
    "regression_IBM.dtypes"
   ]
  },
  {
   "cell_type": "code",
   "execution_count": 102,
   "metadata": {
    "collapsed": false,
    "scrolled": false
   },
   "outputs": [
    {
     "data": {
      "image/png": "[encoded data removed]",
      "text/plain": [
       "<matplotlib.figure.Figure at 0x10c93c650>"
      ]
     },
     "metadata": {},
     "output_type": "display_data"
    }
   ],
   "source": [
    "sns.jointplot(\"Potential_IBM_Interest_Rates\", \"Potential_IBM_Share_Buybacks\", regression_IBM, size=6, kind=\"reg\", color=\"g\")\n",
    "sns.set(color_codes=True)"
   ]
  },
  {
   "cell_type": "code",
   "execution_count": 103,
   "metadata": {
    "collapsed": false
   },
   "outputs": [
    {
     "data": {
      "text/plain": [
       "<seaborn.axisgrid.FacetGrid at 0x10bba7910>"
      ]
     },
     "execution_count": 103,
     "metadata": {},
     "output_type": "execute_result"
    },
    {
     "data": {
      "image/png": "[encoded data removed]",
      "text/plain": [
       "<matplotlib.figure.Figure at 0x10bb0e0d0>"
      ]
     },
     "metadata": {},
     "output_type": "display_data"
    }
   ],
   "source": [
    "#Back to Standard Regression Work\n",
    "# Seaborn scatter plot with regression line\n",
    "sns.lmplot(x='Interest_Rate', y='Billions_Bought', data=ibm_dff, aspect=1.5)"
   ]
  },
  {
   "cell_type": "code",
   "execution_count": 104,
   "metadata": {
    "collapsed": false
   },
   "outputs": [
    {
     "data": {
      "text/plain": [
       "<seaborn.axisgrid.JointGrid at 0x10c9ba5d0>"
      ]
     },
     "execution_count": 104,
     "metadata": {},
     "output_type": "execute_result"
    },
    {
     "data": {
      "image/png": "[encoded data removed]",
      "text/plain": [
       "<matplotlib.figure.Figure at 0x10c9ba810>"
      ]
     },
     "metadata": {},
     "output_type": "display_data"
    }
   ],
   "source": [
    "sns.jointplot(\"Interest_Rate\", \"Billions_Bought\", ibm_dff, kind=\"reg\")"
   ]
  }
 ],
 "metadata": {
  "kernelspec": {
   "display_name": "Python 2",
   "language": "python",
   "name": "python2"
  },
  "language_info": {
   "codemirror_mode": {
    "name": "ipython",
    "version": 2
   },
   "file_extension": ".py",
   "mimetype": "text/x-python",
   "name": "python",
   "nbconvert_exporter": "python",
   "pygments_lexer": "ipython2",
   "version": "2.7.11"
  }
 },
 "nbformat": 4,
 "nbformat_minor": 0
}
